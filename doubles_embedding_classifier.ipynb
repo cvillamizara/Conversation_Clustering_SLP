{
 "cells": [
  {
   "cell_type": "markdown",
   "metadata": {},
   "source": [
    "# Step 1: Preparing the data"
   ]
  },
  {
   "cell_type": "code",
   "execution_count": 1,
   "metadata": {},
   "outputs": [],
   "source": [
    "import json"
   ]
  },
  {
   "cell_type": "code",
   "execution_count": 2,
   "metadata": {},
   "outputs": [],
   "source": [
    "import torch as pt"
   ]
  },
  {
   "cell_type": "code",
   "execution_count": 3,
   "metadata": {},
   "outputs": [],
   "source": [
    "\n",
    "# returns JSON object as \n",
    "# a dictionary\n",
    "train_inputs = []\n",
    "train_outputs = []\n",
    "with open('Dialogue-Evaluation-with-BERT/dataset/train.json', 'r') as f:\n",
    "    for line in f:\n",
    "        line_dict = json.loads(line)\n",
    "        if len(line_dict['context']) > 1:\n",
    "            for resp in line_dict['positive_responses']:\n",
    "                train_inputs.extend([line_dict['context'][-1], resp])\n",
    "                train_outputs.extend([pt.tensor([float(1)])])\n",
    "\n",
    "            for resp in line_dict['adversarial_negative_responses']:\n",
    "            # for resp in line_dict['random_negative_responses']:\n",
    "                train_inputs.extend([line_dict['context'][-1], resp])\n",
    "                train_outputs.extend([pt.tensor([float(0)])])\n",
    "\n",
    "        # else:\n",
    "        #     print(line_dict['context'])\n",
    "\n"
   ]
  },
  {
   "cell_type": "code",
   "execution_count": 4,
   "metadata": {},
   "outputs": [
    {
     "data": {
      "text/plain": [
       "(202360, 202360)"
      ]
     },
     "execution_count": 4,
     "metadata": {},
     "output_type": "execute_result"
    }
   ],
   "source": [
    "len(train_inputs), len(train_outputs)*2"
   ]
  },
  {
   "cell_type": "code",
   "execution_count": 5,
   "metadata": {},
   "outputs": [],
   "source": [
    "\n",
    "# returns JSON object as \n",
    "# a dictionary\n",
    "test_inputs = []\n",
    "test_outputs = []\n",
    "\n",
    "with open('Dialogue-Evaluation-with-BERT/dataset/test.json', 'r') as f:\n",
    "    for line in f:\n",
    "        line_dict = json.loads(line)\n",
    "        if len(line_dict['context']) > 1:\n",
    "            for resp in line_dict['positive_responses']:\n",
    "                test_inputs.extend([line_dict['context'][-1], resp])\n",
    "                test_outputs.extend([pt.tensor([float(1)])])\n",
    "\n",
    "            for resp in line_dict['adversarial_negative_responses']:\n",
    "                test_inputs.extend([line_dict['context'][-1], resp])\n",
    "                test_outputs.extend([pt.tensor([float(0)])])\n",
    "        else:\n",
    "            print(line_dict['context'])\n",
    "\n"
   ]
  },
  {
   "cell_type": "code",
   "execution_count": 6,
   "metadata": {},
   "outputs": [
    {
     "data": {
      "text/plain": [
       "(22840, 22840)"
      ]
     },
     "execution_count": 6,
     "metadata": {},
     "output_type": "execute_result"
    }
   ],
   "source": [
    "len(test_inputs), len(test_outputs)*2"
   ]
  },
  {
   "cell_type": "code",
   "execution_count": 7,
   "metadata": {},
   "outputs": [
    {
     "data": {
      "text/plain": [
       "device(type='mps')"
      ]
     },
     "execution_count": 7,
     "metadata": {},
     "output_type": "execute_result"
    }
   ],
   "source": [
    "import torch as pt\n",
    "device = pt.device(\"mps\") if pt.backends.mps.is_available() else pt.device(\"cpu\")\n",
    "device"
   ]
  },
  {
   "cell_type": "markdown",
   "metadata": {},
   "source": [
    "# Step 2: Create the embeddings"
   ]
  },
  {
   "cell_type": "code",
   "execution_count": 8,
   "metadata": {},
   "outputs": [
    {
     "name": "stderr",
     "output_type": "stream",
     "text": [
      "/Library/Frameworks/Python.framework/Versions/3.11/lib/python3.11/site-packages/tqdm/auto.py:21: TqdmWarning: IProgress not found. Please update jupyter and ipywidgets. See https://ipywidgets.readthedocs.io/en/stable/user_install.html\n",
      "  from .autonotebook import tqdm as notebook_tqdm\n",
      "/Library/Frameworks/Python.framework/Versions/3.11/lib/python3.11/site-packages/transformers/utils/generic.py:441: UserWarning: torch.utils._pytree._register_pytree_node is deprecated. Please use torch.utils._pytree.register_pytree_node instead.\n",
      "  _torch_pytree._register_pytree_node(\n",
      "/Library/Frameworks/Python.framework/Versions/3.11/lib/python3.11/site-packages/transformers/utils/generic.py:309: UserWarning: torch.utils._pytree._register_pytree_node is deprecated. Please use torch.utils._pytree.register_pytree_node instead.\n",
      "  _torch_pytree._register_pytree_node(\n",
      "/Library/Frameworks/Python.framework/Versions/3.11/lib/python3.11/site-packages/transformers/utils/generic.py:309: UserWarning: torch.utils._pytree._register_pytree_node is deprecated. Please use torch.utils._pytree.register_pytree_node instead.\n",
      "  _torch_pytree._register_pytree_node(\n"
     ]
    },
    {
     "data": {
      "text/plain": [
       "SentenceTransformer(\n",
       "  (0): Transformer({'max_seq_length': 512, 'do_lower_case': True}) with Transformer model: BertModel \n",
       "  (1): Pooling({'word_embedding_dimension': 768, 'pooling_mode_cls_token': True, 'pooling_mode_mean_tokens': False, 'pooling_mode_max_tokens': False, 'pooling_mode_mean_sqrt_len_tokens': False, 'pooling_mode_weightedmean_tokens': False, 'pooling_mode_lasttoken': False, 'include_prompt': True})\n",
       "  (2): Normalize()\n",
       ")"
      ]
     },
     "execution_count": 8,
     "metadata": {},
     "output_type": "execute_result"
    }
   ],
   "source": [
    "from sentence_transformers import SentenceTransformer\n",
    "model = SentenceTransformer(\"avsolatorio/GIST-Embedding-v0\", revision=None)\n",
    "\n",
    "# model = SentenceTransformer('all-MiniLM-L6-v2')\n",
    "model.to(device)"
   ]
  },
  {
   "cell_type": "markdown",
   "metadata": {},
   "source": [
    "Usually takes 7 m"
   ]
  },
  {
   "cell_type": "code",
   "execution_count": 9,
   "metadata": {},
   "outputs": [],
   "source": [
    "train_plain_embedings = model.encode(train_inputs)"
   ]
  },
  {
   "cell_type": "code",
   "execution_count": null,
   "metadata": {},
   "outputs": [
    {
     "data": {
      "text/plain": [
       "101180"
      ]
     },
     "execution_count": 10,
     "metadata": {},
     "output_type": "execute_result"
    }
   ],
   "source": [
    "import numpy as np\n",
    "import torch as pt\n",
    "import random\n",
    "\n",
    "train_embeddings = []\n",
    "\n",
    "for idx in range(len(train_plain_embedings)//2):\n",
    "    train_embeddings.append(pt.tensor(np.concatenate((train_plain_embedings[idx*2], train_plain_embedings[idx*2 + 1]))))\n",
    "\n",
    "train_ds = []\n",
    "train_ds = list(zip(train_embeddings, train_outputs))\n",
    "random.shuffle(train_ds)\n",
    "len(train_ds)"
   ]
  },
  {
   "cell_type": "code",
   "execution_count": null,
   "metadata": {},
   "outputs": [],
   "source": [
    "test_plain_embeddings = model.encode(test_inputs)"
   ]
  },
  {
   "cell_type": "code",
   "execution_count": null,
   "metadata": {},
   "outputs": [
    {
     "data": {
      "text/plain": [
       "11420"
      ]
     },
     "execution_count": 12,
     "metadata": {},
     "output_type": "execute_result"
    }
   ],
   "source": [
    "test_embeddings = []\n",
    "\n",
    "for idx in range(len(test_plain_embeddings)//2):\n",
    "    test_embeddings.append(pt.tensor(np.concatenate((test_plain_embeddings[idx*2], test_plain_embeddings[idx*2 + 1]))))\n",
    "\n",
    "test_ds = []\n",
    "test_ds = list(zip(test_embeddings, test_outputs))\n",
    "random.shuffle(test_ds)\n",
    "len(test_ds)"
   ]
  },
  {
   "cell_type": "code",
   "execution_count": null,
   "metadata": {},
   "outputs": [],
   "source": [
    "import torch.nn as nn\n",
    "import numpy as np\n",
    "import torch.nn.functional as F\n",
    "\n",
    "class ComplexModel(nn.Module):\n",
    "    def __init__(self, input_size=2*768, hidden_size=384):\n",
    "        super(ComplexModel, self).__init__()\n",
    "        \n",
    "        # Define layers\n",
    "        self.fc1 = nn.Linear(input_size, hidden_size)  # Fully connected layer 1\n",
    "        self.fc2 = nn.Linear(hidden_size, hidden_size) # Fully connected layer 2\n",
    "        self.fc3 = nn.Linear(hidden_size, hidden_size) # Fully connected layer 3\n",
    "        self.fc4 = nn.Linear(hidden_size, hidden_size) # Fully connected layer 4\n",
    "        self.fc5 = nn.Linear(hidden_size, 1)           # Output layer\n",
    "        \n",
    "        self.relu = nn.ReLU()     # ReLU activation function\n",
    "        self.sigmoid = nn.Sigmoid() # Sigmoid activation function\n",
    "        \n",
    "        self.dropout = nn.Dropout(p=0.4) # Dropout layer to prevent overfitting\n",
    "\n",
    "    def forward(self, x):\n",
    "        # Forward pass\n",
    "        x = self.fc1(x)\n",
    "        x = self.relu(x)\n",
    "        \n",
    "        x = self.fc2(x)\n",
    "        x = self.relu(x)\n",
    "        \n",
    "        x = self.fc3(x)\n",
    "        x = self.relu(x)\n",
    "        \n",
    "        x = self.fc4(x)\n",
    "        x = self.relu(x)\n",
    "        \n",
    "        x = self.dropout(x)\n",
    "        \n",
    "        x = self.fc5(x)\n",
    "        x = self.sigmoid(x)\n",
    "        \n",
    "        return x"
   ]
  },
  {
   "cell_type": "code",
   "execution_count": null,
   "metadata": {},
   "outputs": [
    {
     "data": {
      "text/plain": [
       "ComplexModel(\n",
       "  (fc1): Linear(in_features=1536, out_features=384, bias=True)\n",
       "  (fc2): Linear(in_features=384, out_features=384, bias=True)\n",
       "  (fc3): Linear(in_features=384, out_features=384, bias=True)\n",
       "  (fc4): Linear(in_features=384, out_features=384, bias=True)\n",
       "  (fc5): Linear(in_features=384, out_features=1, bias=True)\n",
       "  (relu): ReLU()\n",
       "  (sigmoid): Sigmoid()\n",
       "  (dropout): Dropout(p=0.4, inplace=False)\n",
       ")"
      ]
     },
     "execution_count": 14,
     "metadata": {},
     "output_type": "execute_result"
    }
   ],
   "source": [
    "# LinearClassifier = SimpleLinear()\n",
    "Classifier = ComplexModel()\n",
    "\n",
    "Classifier.train()"
   ]
  },
  {
   "cell_type": "markdown",
   "metadata": {},
   "source": [
    "# Hyperparameters"
   ]
  },
  {
   "cell_type": "code",
   "execution_count": null,
   "metadata": {},
   "outputs": [],
   "source": [
    "epochs = 25\n",
    "batch_size = 512\n",
    "lr = .05\n"
   ]
  },
  {
   "cell_type": "code",
   "execution_count": null,
   "metadata": {},
   "outputs": [],
   "source": [
    "pt.manual_seed(0)\n",
    "g = pt.Generator()\n",
    "g.manual_seed(0)\n",
    "\n",
    "trainloader = pt.utils.data.DataLoader(\n",
    "    train_ds, batch_size=batch_size, shuffle=True, num_workers=0, generator=g,\n",
    ")\n",
    "\n",
    "testloader = pt.utils.data.DataLoader(\n",
    "    test_ds, batch_size=batch_size, shuffle=False, num_workers=0,\n",
    ")\n",
    "\n"
   ]
  },
  {
   "cell_type": "markdown",
   "metadata": {},
   "source": []
  },
  {
   "cell_type": "code",
   "execution_count": null,
   "metadata": {},
   "outputs": [],
   "source": [
    "import sklearn\n",
    "\n",
    "def loader_accuracy(l):\n",
    "  acc_test_outputs = np.array([])\n",
    "  acc_test_targets = np.array([])\n",
    "  # print(acc_test_outputs, acc_test_targets)\n",
    "  with pt.no_grad():\n",
    "    for data in l:\n",
    "      e, labels = data\n",
    "      acc_outputs = Classifier(e)\n",
    "      acc_test_outputs = np.append(acc_test_outputs, acc_outputs)\n",
    "      acc_test_targets = np.append(acc_test_targets, labels)\n",
    "\n",
    "  acc_test_outputs = np.around((acc_test_outputs))\n",
    "  # print(list(zip(acc_test_outputs, acc_test_targets)))\n",
    "\n",
    "  acc = sklearn.metrics.accuracy_score(acc_test_targets, acc_test_outputs)\n",
    "  return acc\n",
    "\n",
    "def loader_loss(loader):\n",
    "  running_loss = 0.0\n",
    "  with pt.no_grad():\n",
    "    for data in loader:\n",
    "        inputs, labels = data\n",
    "        outputs = Classifier(inputs)\n",
    "        outputs = np.around(outputs)\n",
    "        loss = criterion(outputs, labels)\n",
    "        running_loss += loss.detach() * batch_size\n",
    "  return running_loss / len(loader.dataset)"
   ]
  },
  {
   "cell_type": "code",
   "execution_count": null,
   "metadata": {},
   "outputs": [
    {
     "name": "stdout",
     "output_type": "stream",
     "text": [
      "epoch\ttrain loss\ttrain accuracy\tvalid accuracy\n",
      " 0\t0.641475\t0.629176\t0.604028\n",
      " 1\t0.620072\t0.680391\t0.660333\n",
      " 2\t0.574927\t0.737656\t0.722767\n",
      " 3\t0.566910\t0.749190\t0.732137\n",
      " 4\t0.558691\t0.759142\t0.739054\n",
      " 5\t0.550364\t0.752342\t0.728546\n",
      " 6\t0.517518\t0.780470\t0.761559\n",
      " 7\t0.491493\t0.777585\t0.754466\n",
      " 8\t0.472686\t0.806227\t0.776795\n",
      " 9\t0.460307\t0.808796\t0.773205\n",
      "10\t0.433921\t0.822752\t0.789842\n",
      "11\t0.428763\t0.814420\t0.771541\n",
      "12\t0.400904\t0.827436\t0.784501\n",
      "13\t0.391433\t0.820053\t0.778109\n",
      "14\t0.387518\t0.850583\t0.800613\n",
      "15\t0.378336\t0.850188\t0.796322\n",
      "16\t0.349046\t0.850188\t0.786865\n",
      "17\t0.338606\t0.863491\t0.797723\n",
      "18\t0.319372\t0.864015\t0.792382\n",
      "19\t0.306662\t0.883455\t0.800350\n",
      "20\t0.293626\t0.885373\t0.800350\n",
      "21\t0.267714\t0.895315\t0.801576\n",
      "22\t0.248200\t0.905831\t0.803240\n",
      "23\t0.234446\t0.908915\t0.804991\n",
      "24\t0.226489\t0.911188\t0.805779\n"
     ]
    }
   ],
   "source": [
    "import torch.optim as optim\n",
    "# optimizer = optim.Adam(model.parameters(), lr = lr)\n",
    "optimizer = optim.SGD(Classifier.parameters(), lr=lr)\n",
    "criterion = nn.BCELoss()\n",
    "\n",
    "scheduler = optim.lr_scheduler.OneCycleLR(optimizer, max_lr=lr, steps_per_epoch=len(trainloader), epochs=epochs)\n",
    "\n",
    "losses = []\n",
    "print(\"epoch\\ttrain loss\\ttrain accuracy\\tvalid accuracy\")\n",
    "\n",
    "for epoch in range(epochs):\n",
    "    running_loss = 0.0\n",
    "    for data in trainloader:\n",
    "        # get the inputs\n",
    "        inputs, labels = data\n",
    "        \n",
    "        # zero the parameter gradients\n",
    "        optimizer.zero_grad()\n",
    "\n",
    "        # forward + backward + optimize\n",
    "        outputs = Classifier(inputs)\n",
    "\n",
    "        loss = criterion(outputs, labels)\n",
    "        loss.backward()\n",
    "\n",
    "        optimizer.step()\n",
    "        scheduler.step()\n",
    "\n",
    "        # losses.append(loss.item())\n",
    "\n",
    "        running_loss += loss.detach() * batch_size\n",
    "    \n",
    "    losses.append(running_loss / len(trainloader.dataset))\n",
    "    train_loss = running_loss / len(trainloader.dataset)\n",
    "    train_accuracy = loader_accuracy(trainloader)\n",
    "    valid_accuracy = loader_accuracy(testloader)\n",
    "    print(f\"{epoch:2d}\\t{train_loss:5f}\\t{train_accuracy:5f}\\t{valid_accuracy:5f}\")"
   ]
  },
  {
   "cell_type": "code",
   "execution_count": null,
   "metadata": {},
   "outputs": [
    {
     "data": {
      "text/plain": [
       "(0.6143704289385254, 0.5952714535901926)"
      ]
     },
     "execution_count": 19,
     "metadata": {},
     "output_type": "execute_result"
    }
   ],
   "source": [
    "valid_loss = loader_loss(testloader)\n",
    "train_accuracy = loader_accuracy(trainloader)\n",
    "valid_accuracy = loader_accuracy(testloader)\n",
    "\n",
    "train_accuracy, valid_accuracy\n"
   ]
  },
  {
   "cell_type": "code",
   "execution_count": null,
   "metadata": {},
   "outputs": [
    {
     "data": {
      "text/plain": [
       "0.5935201401050788"
      ]
     },
     "execution_count": 20,
     "metadata": {},
     "output_type": "execute_result"
    }
   ],
   "source": [
    "valid_accuracy = loader_accuracy(testloader)\n",
    "valid_accuracy\n"
   ]
  },
  {
   "cell_type": "code",
   "execution_count": null,
   "metadata": {},
   "outputs": [
    {
     "data": {
      "text/plain": [
       "tensor(65129.0703)"
      ]
     },
     "execution_count": 21,
     "metadata": {},
     "output_type": "execute_result"
    }
   ],
   "source": [
    "running_loss"
   ]
  },
  {
   "cell_type": "code",
   "execution_count": null,
   "metadata": {},
   "outputs": [
    {
     "data": {
      "image/png": "[encoded data removed]",
      "text/plain": [
       "<Figure size 640x480 with 1 Axes>"
      ]
     },
     "metadata": {},
     "output_type": "display_data"
    }
   ],
   "source": [
    "import matplotlib.pyplot as plt\n",
    "plt.plot(losses, label=\"Training Loss\")\n",
    "plt.xlabel(\"Epoch\")\n",
    "plt.ylabel(\"Loss\")\n",
    "plt.title(\"Training Loss Over Epoch\")\n",
    "plt.legend()\n",
    "\n",
    "plt.show()\n"
   ]
  },
  {
   "cell_type": "code",
   "execution_count": null,
   "metadata": {},
   "outputs": [],
   "source": [
    "import torch\n",
    "# Save model checkpoint\n",
    "\n",
    "torch.save(Classifier, 'is_conversation_embedding_classifier_doubles.pt')"
   ]
  }
 ],
 "metadata": {
  "kernelspec": {
   "display_name": "Python 3",
   "language": "python",
   "name": "python3"
  },
  "language_info": {
   "codemirror_mode": {
    "name": "ipython",
    "version": 3
   },
   "file_extension": ".py",
   "mimetype": "text/x-python",
   "name": "python",
   "nbconvert_exporter": "python",
   "pygments_lexer": "ipython3",
   "version": "3.undefined.undefined"
  }
 },
 "nbformat": 4,
 "nbformat_minor": 2
}
