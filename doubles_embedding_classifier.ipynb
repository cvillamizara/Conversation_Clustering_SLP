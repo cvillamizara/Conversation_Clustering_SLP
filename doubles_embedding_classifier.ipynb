{
 "cells": [
  {
   "cell_type": "markdown",
   "metadata": {},
   "source": [
    "# Step 1: Preparing the data"
   ]
  },
  {
   "cell_type": "code",
   "execution_count": 1,
   "metadata": {},
   "outputs": [],
   "source": [
    "import json"
   ]
  },
  {
   "cell_type": "code",
   "execution_count": 2,
   "metadata": {},
   "outputs": [],
   "source": [
    "import torch as pt"
   ]
  },
  {
   "cell_type": "code",
   "execution_count": 3,
   "metadata": {},
   "outputs": [],
   "source": [
    "\n",
    "# returns JSON object as \n",
    "# a dictionary\n",
    "train_inputs = []\n",
    "train_outputs = []\n",
    "with open('Dialogue-Evaluation-with-BERT/dataset/train.json', 'r') as f:\n",
    "    for line in f:\n",
    "        line_dict = json.loads(line)\n",
    "        if len(line_dict['context']) > 1:\n",
    "            for resp in line_dict['positive_responses']:\n",
    "                train_inputs.extend([line_dict['context'][-1], resp])\n",
    "                train_outputs.extend([pt.tensor([float(1)])])\n",
    "\n",
    "            for resp in line_dict['adversarial_negative_responses']:\n",
    "                train_inputs.extend([line_dict['context'][-1], resp])\n",
    "                train_outputs.extend([pt.tensor([float(0)])])\n",
    "\n",
    "        # else:\n",
    "        #     print(line_dict['context'])\n",
    "\n"
   ]
  },
  {
   "cell_type": "code",
   "execution_count": 4,
   "metadata": {},
   "outputs": [
    {
     "data": {
      "text/plain": [
       "(182120, 182120)"
      ]
     },
     "execution_count": 4,
     "metadata": {},
     "output_type": "execute_result"
    }
   ],
   "source": [
    "len(train_inputs), len(train_outputs)*2"
   ]
  },
  {
   "cell_type": "code",
   "execution_count": 5,
   "metadata": {},
   "outputs": [],
   "source": [
    "\n",
    "# returns JSON object as \n",
    "# a dictionary\n",
    "test_inputs = []\n",
    "test_outputs = []\n",
    "\n",
    "with open('Dialogue-Evaluation-with-BERT/dataset/test.json', 'r') as f:\n",
    "    for line in f:\n",
    "        line_dict = json.loads(line)\n",
    "        if len(line_dict['context']) > 1:\n",
    "            for resp in line_dict['positive_responses']:\n",
    "                test_inputs.extend([line_dict['context'][-1], resp])\n",
    "                test_outputs.extend([pt.tensor([float(1)])])\n",
    "\n",
    "            for resp in line_dict['adversarial_negative_responses']:\n",
    "                test_inputs.extend([line_dict['context'][-1], resp])\n",
    "                test_outputs.extend([pt.tensor([float(0)])])\n",
    "        else:\n",
    "            print(line_dict['context'])\n",
    "\n"
   ]
  },
  {
   "cell_type": "code",
   "execution_count": 6,
   "metadata": {},
   "outputs": [
    {
     "data": {
      "text/plain": [
       "(22840, 22840)"
      ]
     },
     "execution_count": 6,
     "metadata": {},
     "output_type": "execute_result"
    }
   ],
   "source": [
    "len(test_inputs), len(test_outputs)*2"
   ]
  },
  {
   "cell_type": "code",
   "execution_count": 7,
   "metadata": {},
   "outputs": [
    {
     "data": {
      "text/plain": [
       "device(type='mps')"
      ]
     },
     "execution_count": 7,
     "metadata": {},
     "output_type": "execute_result"
    }
   ],
   "source": [
    "import torch as pt\n",
    "device = pt.device(\"mps\") if pt.backends.mps.is_available() else pt.device(\"cpu\")\n",
    "device"
   ]
  },
  {
   "cell_type": "markdown",
   "metadata": {},
   "source": [
    "# Step 2: Create the embeddings"
   ]
  },
  {
   "cell_type": "code",
   "execution_count": 9,
   "metadata": {},
   "outputs": [
    {
     "data": {
      "text/plain": [
       "SentenceTransformer(\n",
       "  (0): Transformer({'max_seq_length': 512, 'do_lower_case': True}) with Transformer model: BertModel \n",
       "  (1): Pooling({'word_embedding_dimension': 768, 'pooling_mode_cls_token': True, 'pooling_mode_mean_tokens': False, 'pooling_mode_max_tokens': False, 'pooling_mode_mean_sqrt_len_tokens': False, 'pooling_mode_weightedmean_tokens': False, 'pooling_mode_lasttoken': False, 'include_prompt': True})\n",
       "  (2): Normalize()\n",
       ")"
      ]
     },
     "execution_count": 9,
     "metadata": {},
     "output_type": "execute_result"
    }
   ],
   "source": [
    "from sentence_transformers import SentenceTransformer\n",
    "model = SentenceTransformer(\"avsolatorio/GIST-Embedding-v0\", revision=None)\n",
    "\n",
    "# model = SentenceTransformer('all-MiniLM-L6-v2')\n",
    "model.to(device)"
   ]
  },
  {
   "cell_type": "markdown",
   "metadata": {},
   "source": [
    "Usually takes 7 m"
   ]
  },
  {
   "cell_type": "code",
   "execution_count": 10,
   "metadata": {},
   "outputs": [],
   "source": [
    "train_plain_embedings = model.encode(train_inputs)"
   ]
  },
  {
   "cell_type": "code",
   "execution_count": 11,
   "metadata": {},
   "outputs": [
    {
     "data": {
      "text/plain": [
       "91060"
      ]
     },
     "execution_count": 11,
     "metadata": {},
     "output_type": "execute_result"
    }
   ],
   "source": [
    "import numpy as np\n",
    "import torch as pt\n",
    "import random\n",
    "\n",
    "train_embeddings = []\n",
    "\n",
    "for idx in range(len(train_plain_embedings)//2):\n",
    "    train_embeddings.append(pt.tensor(np.concatenate((train_plain_embedings[idx*2], train_plain_embedings[idx*2 + 1]))))\n",
    "\n",
    "train_ds = []\n",
    "train_ds = list(zip(train_embeddings, train_outputs))\n",
    "random.shuffle(train_ds)\n",
    "len(train_ds)"
   ]
  },
  {
   "cell_type": "code",
   "execution_count": 12,
   "metadata": {},
   "outputs": [],
   "source": [
    "test_plain_embeddings = model.encode(test_inputs)"
   ]
  },
  {
   "cell_type": "code",
   "execution_count": 13,
   "metadata": {},
   "outputs": [
    {
     "data": {
      "text/plain": [
       "11420"
      ]
     },
     "execution_count": 13,
     "metadata": {},
     "output_type": "execute_result"
    }
   ],
   "source": [
    "test_embeddings = []\n",
    "\n",
    "for idx in range(len(test_plain_embeddings)//2):\n",
    "    test_embeddings.append(pt.tensor(np.concatenate((test_plain_embeddings[idx*2], test_plain_embeddings[idx*2 + 1]))))\n",
    "\n",
    "test_ds = []\n",
    "test_ds = list(zip(test_embeddings, test_outputs))\n",
    "random.shuffle(test_ds)\n",
    "len(test_ds)"
   ]
  },
  {
   "cell_type": "code",
   "execution_count": 14,
   "metadata": {},
   "outputs": [],
   "source": [
    "import torch.nn as nn\n",
    "import numpy as np\n",
    "import torch.nn.functional as F\n",
    "\n",
    "class ComplexModel(nn.Module):\n",
    "    def __init__(self, input_size=2*768, hidden_size=384):\n",
    "        super(ComplexModel, self).__init__()\n",
    "        \n",
    "        # Define layers\n",
    "        self.fc1 = nn.Linear(input_size, hidden_size)  # Fully connected layer 1\n",
    "        self.fc2 = nn.Linear(hidden_size, hidden_size) # Fully connected layer 2\n",
    "        self.fc3 = nn.Linear(hidden_size, hidden_size) # Fully connected layer 3\n",
    "        self.fc4 = nn.Linear(hidden_size, hidden_size) # Fully connected layer 4\n",
    "        self.fc5 = nn.Linear(hidden_size, 1)           # Output layer\n",
    "        \n",
    "        self.relu = nn.ReLU()     # ReLU activation function\n",
    "        self.sigmoid = nn.Sigmoid() # Sigmoid activation function\n",
    "        \n",
    "        self.dropout = nn.Dropout(p=0.4) # Dropout layer to prevent overfitting\n",
    "\n",
    "    def forward(self, x):\n",
    "        # Forward pass\n",
    "        x = self.fc1(x)\n",
    "        x = self.relu(x)\n",
    "        \n",
    "        x = self.fc2(x)\n",
    "        x = self.relu(x)\n",
    "        \n",
    "        x = self.fc3(x)\n",
    "        x = self.relu(x)\n",
    "        \n",
    "        x = self.fc4(x)\n",
    "        x = self.relu(x)\n",
    "        \n",
    "        x = self.dropout(x)\n",
    "        \n",
    "        x = self.fc5(x)\n",
    "        x = self.sigmoid(x)\n",
    "        \n",
    "        return x"
   ]
  },
  {
   "cell_type": "code",
   "execution_count": 24,
   "metadata": {},
   "outputs": [
    {
     "data": {
      "text/plain": [
       "ComplexModel(\n",
       "  (fc1): Linear(in_features=1536, out_features=384, bias=True)\n",
       "  (fc2): Linear(in_features=384, out_features=384, bias=True)\n",
       "  (fc3): Linear(in_features=384, out_features=384, bias=True)\n",
       "  (fc4): Linear(in_features=384, out_features=384, bias=True)\n",
       "  (fc5): Linear(in_features=384, out_features=1, bias=True)\n",
       "  (relu): ReLU()\n",
       "  (sigmoid): Sigmoid()\n",
       "  (dropout): Dropout(p=0.4, inplace=False)\n",
       ")"
      ]
     },
     "execution_count": 24,
     "metadata": {},
     "output_type": "execute_result"
    }
   ],
   "source": [
    "# LinearClassifier = SimpleLinear()\n",
    "Classifier = ComplexModel()\n",
    "\n",
    "Classifier.train()"
   ]
  },
  {
   "cell_type": "markdown",
   "metadata": {},
   "source": [
    "# Hyperparameters"
   ]
  },
  {
   "cell_type": "code",
   "execution_count": 25,
   "metadata": {},
   "outputs": [],
   "source": [
    "epochs = 50\n",
    "batch_size = 512\n",
    "lr = .05\n"
   ]
  },
  {
   "cell_type": "code",
   "execution_count": 26,
   "metadata": {},
   "outputs": [],
   "source": [
    "pt.manual_seed(0)\n",
    "g = pt.Generator()\n",
    "g.manual_seed(0)\n",
    "\n",
    "trainloader = pt.utils.data.DataLoader(\n",
    "    train_ds, batch_size=batch_size, shuffle=True, num_workers=0, generator=g,\n",
    ")\n",
    "\n",
    "testloader = pt.utils.data.DataLoader(\n",
    "    test_ds, batch_size=batch_size, shuffle=False, num_workers=0,\n",
    ")\n",
    "\n"
   ]
  },
  {
   "cell_type": "markdown",
   "metadata": {},
   "source": []
  },
  {
   "cell_type": "code",
   "execution_count": 27,
   "metadata": {},
   "outputs": [],
   "source": [
    "import sklearn\n",
    "\n",
    "def loader_accuracy(l):\n",
    "  acc_test_outputs = np.array([])\n",
    "  acc_test_targets = np.array([])\n",
    "  # print(acc_test_outputs, acc_test_targets)\n",
    "  with pt.no_grad():\n",
    "    for data in l:\n",
    "      e, labels = data\n",
    "      acc_outputs = Classifier(e)\n",
    "      acc_test_outputs = np.append(acc_test_outputs, acc_outputs)\n",
    "      acc_test_targets = np.append(acc_test_targets, labels)\n",
    "\n",
    "  acc_test_outputs = np.around((acc_test_outputs))\n",
    "  # print(list(zip(acc_test_outputs, acc_test_targets)))\n",
    "\n",
    "  acc = sklearn.metrics.accuracy_score(acc_test_targets, acc_test_outputs)\n",
    "  return acc\n",
    "\n",
    "def loader_loss(loader):\n",
    "  running_loss = 0.0\n",
    "  with pt.no_grad():\n",
    "    for data in loader:\n",
    "        inputs, labels = data\n",
    "        outputs = Classifier(inputs)\n",
    "        outputs = np.around(outputs)\n",
    "        loss = criterion(outputs, labels)\n",
    "        running_loss += loss.detach() * batch_size\n",
    "  return running_loss / len(loader.dataset)"
   ]
  },
  {
   "cell_type": "code",
   "execution_count": 28,
   "metadata": {},
   "outputs": [
    {
     "name": "stdout",
     "output_type": "stream",
     "text": [
      "epoch\ttrain loss\ttrain accuracy\tvalid accuracy\n"
     ]
    },
    {
     "name": "stdout",
     "output_type": "stream",
     "text": [
      " 0\t0.693775\t0.502207\t0.500525\n",
      " 1\t0.693752\t0.501955\t0.505166\n",
      " 2\t0.693671\t0.503382\t0.502715\n",
      " 3\t0.693652\t0.510081\t0.514711\n",
      " 4\t0.693550\t0.515693\t0.512434\n",
      " 5\t0.693367\t0.516077\t0.513047\n",
      " 6\t0.692736\t0.522864\t0.518651\n",
      " 7\t0.685681\t0.768405\t0.742382\n",
      " 8\t0.467985\t0.833286\t0.814536\n",
      " 9\t0.384242\t0.848243\t0.827583\n",
      "10\t0.362429\t0.850231\t0.836515\n",
      "11\t0.351111\t0.858313\t0.841856\n",
      "12\t0.339704\t0.844103\t0.832224\n",
      "13\t0.333872\t0.841731\t0.832574\n",
      "14\t0.327954\t0.870679\t0.853853\n",
      "15\t0.314210\t0.868296\t0.855954\n",
      "16\t0.308814\t0.880233\t0.866200\n",
      "17\t0.299422\t0.888700\t0.869965\n",
      "18\t0.288228\t0.875544\t0.863835\n",
      "19\t0.274579\t0.900988\t0.879247\n",
      "20\t0.268886\t0.900846\t0.880560\n",
      "21\t0.259136\t0.912102\t0.884151\n",
      "22\t0.259648\t0.838744\t0.806392\n",
      "23\t0.249328\t0.910663\t0.880123\n",
      "24\t0.240957\t0.918559\t0.885289\n",
      "25\t0.226631\t0.914013\t0.873468\n",
      "26\t0.223748\t0.920734\t0.886865\n",
      "27\t0.215537\t0.926565\t0.886252\n",
      "28\t0.216412\t0.928157\t0.885289\n",
      "29\t0.198050\t0.926148\t0.875919\n",
      "30\t0.199991\t0.934022\t0.884588\n",
      "31\t0.191838\t0.929190\t0.874606\n",
      "32\t0.172132\t0.929409\t0.883275\n",
      "33\t0.164023\t0.949440\t0.886953\n",
      "34\t0.165644\t0.944861\t0.878722\n",
      "35\t0.149400\t0.887876\t0.852014\n",
      "36\t0.142908\t0.957292\t0.890105\n",
      "37\t0.142534\t0.956183\t0.883450\n",
      "38\t0.124333\t0.960927\t0.878021\n",
      "39\t0.108574\t0.959752\t0.872855\n",
      "40\t0.103193\t0.972139\t0.881699\n",
      "41\t0.092877\t0.961048\t0.866287\n",
      "42\t0.072721\t0.982945\t0.886427\n",
      "43\t0.059174\t0.986701\t0.880035\n",
      "44\t0.051035\t0.986646\t0.887215\n",
      "45\t0.043245\t0.992708\t0.885114\n",
      "46\t0.037594\t0.993279\t0.885114\n",
      "47\t0.034666\t0.994037\t0.885201\n",
      "48\t0.032937\t0.994421\t0.884151\n",
      "49\t0.032204\t0.994333\t0.884501\n"
     ]
    }
   ],
   "source": [
    "import torch.optim as optim\n",
    "# optimizer = optim.Adam(model.parameters(), lr = lr)\n",
    "optimizer = optim.SGD(Classifier.parameters(), lr=lr)\n",
    "criterion = nn.BCELoss()\n",
    "\n",
    "scheduler = optim.lr_scheduler.OneCycleLR(optimizer, max_lr=lr, steps_per_epoch=len(trainloader), epochs=epochs)\n",
    "\n",
    "losses = []\n",
    "print(\"epoch\\ttrain loss\\ttrain accuracy\\tvalid accuracy\")\n",
    "\n",
    "for epoch in range(epochs):\n",
    "    running_loss = 0.0\n",
    "    for data in trainloader:\n",
    "        # get the inputs\n",
    "        inputs, labels = data\n",
    "        \n",
    "        # zero the parameter gradients\n",
    "        optimizer.zero_grad()\n",
    "\n",
    "        # forward + backward + optimize\n",
    "        outputs = Classifier(inputs)\n",
    "\n",
    "        loss = criterion(outputs, labels)\n",
    "        loss.backward()\n",
    "\n",
    "        optimizer.step()\n",
    "        scheduler.step()\n",
    "\n",
    "        # losses.append(loss.item())\n",
    "\n",
    "        running_loss += loss.detach() * batch_size\n",
    "    \n",
    "    losses.append(running_loss / len(trainloader.dataset))\n",
    "    train_loss = running_loss / len(trainloader.dataset)\n",
    "    train_accuracy = loader_accuracy(trainloader)\n",
    "    valid_accuracy = loader_accuracy(testloader)\n",
    "    print(f\"{epoch:2d}\\t{train_loss:5f}\\t{train_accuracy:5f}\\t{valid_accuracy:5f}\")"
   ]
  },
  {
   "cell_type": "code",
   "execution_count": 29,
   "metadata": {},
   "outputs": [
    {
     "data": {
      "text/plain": [
       "(0.9944761695585328, 0.8850262697022767)"
      ]
     },
     "execution_count": 29,
     "metadata": {},
     "output_type": "execute_result"
    }
   ],
   "source": [
    "valid_loss = loader_loss(testloader)\n",
    "train_accuracy = loader_accuracy(trainloader)\n",
    "valid_accuracy = loader_accuracy(testloader)\n",
    "\n",
    "train_accuracy, valid_accuracy\n"
   ]
  },
  {
   "cell_type": "code",
   "execution_count": 30,
   "metadata": {},
   "outputs": [
    {
     "data": {
      "text/plain": [
       "0.8850262697022767"
      ]
     },
     "execution_count": 30,
     "metadata": {},
     "output_type": "execute_result"
    }
   ],
   "source": [
    "valid_accuracy = loader_accuracy(testloader)\n",
    "valid_accuracy\n"
   ]
  },
  {
   "cell_type": "code",
   "execution_count": 31,
   "metadata": {},
   "outputs": [
    {
     "data": {
      "text/plain": [
       "tensor(2932.4568)"
      ]
     },
     "execution_count": 31,
     "metadata": {},
     "output_type": "execute_result"
    }
   ],
   "source": [
    "running_loss"
   ]
  },
  {
   "cell_type": "code",
   "execution_count": 32,
   "metadata": {},
   "outputs": [
    {
     "data": {
      "image/png": "[encoded data removed]",
      "text/plain": [
       "<Figure size 640x480 with 1 Axes>"
      ]
     },
     "metadata": {},
     "output_type": "display_data"
    }
   ],
   "source": [
    "import matplotlib.pyplot as plt\n",
    "plt.plot(losses, label=\"Training Loss\")\n",
    "plt.xlabel(\"Epoch\")\n",
    "plt.ylabel(\"Loss\")\n",
    "plt.title(\"Training Loss Over Epoch\")\n",
    "plt.legend()\n",
    "\n",
    "plt.show()\n"
   ]
  },
  {
   "cell_type": "code",
   "execution_count": 34,
   "metadata": {},
   "outputs": [],
   "source": [
    "import torch\n",
    "# Save model checkpoint\n",
    "\n",
    "torch.save(Classifier, 'is_conversation_embedding_classifier_doubles.pt')"
   ]
  }
 ],
 "metadata": {
  "kernelspec": {
   "display_name": "Python 3",
   "language": "python",
   "name": "python3"
  },
  "language_info": {
   "codemirror_mode": {
    "name": "ipython",
    "version": 3
   },
   "file_extension": ".py",
   "mimetype": "text/x-python",
   "name": "python",
   "nbconvert_exporter": "python",
   "pygments_lexer": "ipython3",
   "version": "3.11.4"
  }
 },
 "nbformat": 4,
 "nbformat_minor": 2
}
